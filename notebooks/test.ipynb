{
 "cells": [
  {
   "cell_type": "markdown",
   "id": "dc68a4fe-7131-4c7a-9e92-3ed0b65a26fc",
   "metadata": {},
   "source": [
    "### Strategy\n",
    " + generate `N x M` cells\n",
    " + only 2 can be terminal (one success, one failure)\n",
    " + 10% of forbidden cells\n",
    " + the rest standard cells\n",
    " + assign random configuration"
   ]
  },
  {
   "cell_type": "code",
   "execution_count": null,
   "id": "e8c89696-0ef8-4c6d-aaf4-e0c97f5566f6",
   "metadata": {},
   "outputs": [],
   "source": [
    "%load_ext autoreload\n",
    "%autoreload 2\n",
    "\n",
    "import sys\n",
    "sys.path.append('..')\n",
    "\n",
    "from rl import Grid"
   ]
  },
  {
   "cell_type": "code",
   "execution_count": null,
   "id": "9fdc5f21-b090-4fdb-88c3-067b45102d6b",
   "metadata": {},
   "outputs": [],
   "source": [
    "grid = Grid()\n",
    "grid.random_arrangement()\n",
    "grid.set_current_cell()"
   ]
  },
  {
   "cell_type": "code",
   "execution_count": null,
   "id": "a84a22f5-f6c4-468d-8979-f2e2b85172d6",
   "metadata": {},
   "outputs": [],
   "source": [
    "grid.next_cell('D')"
   ]
  }
 ],
 "metadata": {
  "kernelspec": {
   "display_name": "Python 3 (ipykernel)",
   "language": "python",
   "name": "python3"
  },
  "language_info": {
   "codemirror_mode": {
    "name": "ipython",
    "version": 3
   },
   "file_extension": ".py",
   "mimetype": "text/x-python",
   "name": "python",
   "nbconvert_exporter": "python",
   "pygments_lexer": "ipython3",
   "version": "3.7.12"
  }
 },
 "nbformat": 4,
 "nbformat_minor": 5
}
