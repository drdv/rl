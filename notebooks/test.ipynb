{
 "cells": [
  {
   "cell_type": "code",
   "execution_count": null,
   "id": "e8c89696-0ef8-4c6d-aaf4-e0c97f5566f6",
   "metadata": {},
   "outputs": [],
   "source": [
    "%load_ext autoreload\n",
    "%autoreload 2\n",
    "\n",
    "import sys\n",
    "sys.path.append('..')\n",
    "\n",
    "from rl import Grid, Coordinate"
   ]
  },
  {
   "cell_type": "markdown",
   "id": "77bcaa8d-3daf-4cc7-9b79-cd288a99f3bb",
   "metadata": {},
   "source": [
    "### Random grid"
   ]
  },
  {
   "cell_type": "code",
   "execution_count": null,
   "id": "9fdc5f21-b090-4fdb-88c3-067b45102d6b",
   "metadata": {},
   "outputs": [],
   "source": [
    "grid = Grid(numb_rows=3, numb_cols=4)\n",
    "grid.random_arrangement()\n",
    "grid.set_current_cell()"
   ]
  },
  {
   "cell_type": "markdown",
   "id": "a3cc7814-4ce4-4716-b9f4-fbd9195915b6",
   "metadata": {},
   "source": [
    "### Standard 4x3 grid"
   ]
  },
  {
   "cell_type": "code",
   "execution_count": null,
   "id": "ba28ae42-104b-478b-ba79-b8cc75f731ce",
   "metadata": {},
   "outputs": [],
   "source": [
    "grid = Grid.grid_4x3()\n",
    "grid.set_current_cell(Coordinate(x=1, y=1))"
   ]
  }
 ],
 "metadata": {
  "kernelspec": {
   "display_name": "Python 3 (ipykernel)",
   "language": "python",
   "name": "python3"
  },
  "language_info": {
   "codemirror_mode": {
    "name": "ipython",
    "version": 3
   },
   "file_extension": ".py",
   "mimetype": "text/x-python",
   "name": "python",
   "nbconvert_exporter": "python",
   "pygments_lexer": "ipython3",
   "version": "3.7.12"
  }
 },
 "nbformat": 4,
 "nbformat_minor": 5
}
