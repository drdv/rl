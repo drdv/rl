{
 "cells": [
  {
   "cell_type": "code",
   "execution_count": null,
   "id": "e8c89696-0ef8-4c6d-aaf4-e0c97f5566f6",
   "metadata": {},
   "outputs": [],
   "source": [
    "%load_ext autoreload\n",
    "%autoreload 2\n",
    "\n",
    "import sys\n",
    "sys.path.append('..')\n",
    "import matplotlib.pyplot as plt\n",
    "\n",
    "from rl import Grid, Coordinate, GridEnv"
   ]
  },
  {
   "cell_type": "markdown",
   "id": "77bcaa8d-3daf-4cc7-9b79-cd288a99f3bb",
   "metadata": {},
   "source": [
    "### Random grid"
   ]
  },
  {
   "cell_type": "code",
   "execution_count": null,
   "id": "9fdc5f21-b090-4fdb-88c3-067b45102d6b",
   "metadata": {},
   "outputs": [],
   "source": [
    "grid = Grid(numb_rows=8, numb_cols=8, fraction_forbidden=0.2)\n",
    "grid.set_init_cell()\n",
    "grid.plot()"
   ]
  },
  {
   "cell_type": "markdown",
   "id": "a3cc7814-4ce4-4716-b9f4-fbd9195915b6",
   "metadata": {},
   "source": [
    "### Standard 4x3 grid"
   ]
  },
  {
   "cell_type": "code",
   "execution_count": null,
   "id": "ba28ae42-104b-478b-ba79-b8cc75f731ce",
   "metadata": {},
   "outputs": [],
   "source": [
    "grid = Grid.grid_4x3()\n",
    "grid.set_init_cell(Coordinate(x=0, y=0))\n",
    "grid.plot()"
   ]
  },
  {
   "cell_type": "code",
   "execution_count": null,
   "id": "c118f671-8298-4ef4-8ae0-525e9e29ab0d",
   "metadata": {},
   "outputs": [],
   "source": [
    "done = grid.next_cell('R')\n",
    "grid.plot()"
   ]
  },
  {
   "cell_type": "markdown",
   "id": "d709ebee-25cb-4528-90e6-ffa68c163a53",
   "metadata": {},
   "source": [
    "### Check Gym environment"
   ]
  },
  {
   "cell_type": "code",
   "execution_count": null,
   "id": "d288c510-cc1a-4c31-b784-cd078b7ecc72",
   "metadata": {},
   "outputs": [],
   "source": [
    "from stable_baselines3.common.env_checker import check_env\n",
    "check_env(GridEnv(Grid.grid_4x3()))"
   ]
  },
  {
   "cell_type": "code",
   "execution_count": null,
   "id": "be38cf78-846a-47a4-b529-30e58c82c886",
   "metadata": {},
   "outputs": [],
   "source": [
    "env = GridEnv(Grid.grid_4x3())\n",
    "env.reset()\n",
    "env.step(0)"
   ]
  },
  {
   "cell_type": "markdown",
   "id": "1acc45bc-222d-4736-a810-545b963be4a7",
   "metadata": {},
   "source": [
    "### Vector env"
   ]
  },
  {
   "cell_type": "code",
   "execution_count": null,
   "id": "4ac0828c-72bf-4d8a-af32-5325b9e561eb",
   "metadata": {},
   "outputs": [],
   "source": [
    "from stable_baselines3.common.env_util import make_vec_env\n",
    "from stable_baselines3.common.vec_env import SubprocVecEnv"
   ]
  },
  {
   "cell_type": "code",
   "execution_count": null,
   "id": "d96e953a-8a56-4dbc-a91f-d055ef23eecf",
   "metadata": {},
   "outputs": [],
   "source": [
    "vec_env = make_vec_env(env_id=GridEnv, \n",
    "                       n_envs=5, \n",
    "                       vec_env_cls=SubprocVecEnv,\n",
    "                       env_kwargs={'grid': Grid.grid_4x3()})\n",
    "vec_env.reset()"
   ]
  },
  {
   "cell_type": "markdown",
   "id": "a5a214a8-7b52-4d55-8279-5886fd172886",
   "metadata": {},
   "source": [
    "### SB3 Algorithm"
   ]
  },
  {
   "cell_type": "code",
   "execution_count": null,
   "id": "b35f93c9-c7a7-4575-9961-91e419f39ac1",
   "metadata": {},
   "outputs": [],
   "source": [
    "from stable_baselines3 import PPO"
   ]
  },
  {
   "cell_type": "code",
   "execution_count": null,
   "id": "2ccf84cc-ce6d-4a82-9387-aa567c432b44",
   "metadata": {},
   "outputs": [],
   "source": [
    "model = PPO('MultiInputPolicy', vec_env, verbose=True)"
   ]
  },
  {
   "cell_type": "code",
   "execution_count": null,
   "id": "efc671c4-33c5-4861-9d17-17ef2c2d0f0d",
   "metadata": {},
   "outputs": [],
   "source": [
    "model.learn(1_000_000)"
   ]
  }
 ],
 "metadata": {
  "kernelspec": {
   "display_name": "Python 3 (ipykernel)",
   "language": "python",
   "name": "python3"
  },
  "language_info": {
   "codemirror_mode": {
    "name": "ipython",
    "version": 3
   },
   "file_extension": ".py",
   "mimetype": "text/x-python",
   "name": "python",
   "nbconvert_exporter": "python",
   "pygments_lexer": "ipython3",
   "version": "3.7.12"
  }
 },
 "nbformat": 4,
 "nbformat_minor": 5
}
